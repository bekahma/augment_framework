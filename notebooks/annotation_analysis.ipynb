{
 "cells": [
  {
   "cell_type": "markdown",
   "metadata": {},
   "source": [
    "This notebook is to analyze the automatic detection tools against human annotation."
   ]
  },
  {
   "cell_type": "code",
   "execution_count": null,
   "metadata": {},
   "outputs": [],
   "source": [
    "import pandas as pd\n",
    "import ast\n",
    "from sklearn.metrics import precision_score, recall_score, f1_score, accuracy_score, confusion_matrix"
   ]
  },
  {
   "cell_type": "code",
   "execution_count": null,
   "metadata": {},
   "outputs": [],
   "source": [
    "#Config\n",
    "modification='prepositions'\n",
    "model='deepseek'"
   ]
  },
  {
   "cell_type": "code",
   "execution_count": null,
   "metadata": {},
   "outputs": [],
   "source": [
    "#Paths\n",
    "DATA_FOLDER='./data/paraphrases/'\n",
    "ANNOTATED_FILE=DATA_FOLDER+f\"Gender_identity_{modification}_{model}_annotated.xlsx\""
   ]
  },
  {
   "cell_type": "code",
   "execution_count": null,
   "metadata": {},
   "outputs": [],
   "source": [
    "annotated_df=pd.read_excel(ANNOTATED_FILE)"
   ]
  },
  {
   "cell_type": "code",
   "execution_count": null,
   "metadata": {},
   "outputs": [],
   "source": [
    "#Filtering out sentences with no modification\n",
    "print(\"No modification\", sum(annotated_df.nb_modif==0))\n",
    "annotated_df=annotated_df[annotated_df.nb_modif!=0]"
   ]
  },
  {
   "cell_type": "code",
   "execution_count": null,
   "metadata": {},
   "outputs": [],
   "source": [
    "print(\"Avg performance\", round(sum(annotated_df.keep)/len(annotated_df), 4))\n",
    "print(\"Wrong modif errors\", sum(annotated_df.wrong_modif.notna()))\n",
    "print(\"Realism errors\", sum(annotated_df.realism.notna()))\n",
    "print(\"Meaning errors\", sum(annotated_df.meaning.notna()))\n",
    "print(\"Avg number of modif\", round(annotated_df.nb_modif.mean(), 2))"
   ]
  },
  {
   "cell_type": "code",
   "execution_count": null,
   "metadata": {},
   "outputs": [],
   "source": [
    "#Similarity metrics analysis\n",
    "print(annotated_df.rouge_l.describe())\n",
    "print(annotated_df.bert_score.describe())\n",
    "print(annotated_df.sbert_score.describe())"
   ]
  },
  {
   "cell_type": "code",
   "execution_count": null,
   "metadata": {},
   "outputs": [],
   "source": [
    "#Confusion matrix\n",
    "if modification=='prepositions':\n",
    "    annotated_df[\"wrong_added\"]=annotated_df[\"wrong_added\"].apply(ast.literal_eval)\n",
    "    annotated_df[\"wrong_removed\"]=annotated_df[\"wrong_removed\"].apply(ast.literal_eval)\n",
    "    annotated_df['automated_keep']=(((annotated_df[\"wrong_added\"].apply(lambda x: x == []))&(annotated_df[\"wrong_removed\"].apply(lambda x: x == [])))|annotated_df.apply(compare_lemmas, axis=1))\n",
    "\n",
    "elif modification=='AAE':\n",
    "    annotated_df[\"proba_par\"]=annotated_df[\"proba_par\"].apply(lambda x : round(x,2))\n",
    "    annotated_df[\"proba_ori\"]=annotated_df[\"proba_ori\"].apply(lambda x : round(x,2))\n",
    "    annotated_df['automated_keep']=((annotated_df[\"label_par\"]=='LABEL_1')|((annotated_df[\"proba_par\"]<annotated_df[\"proba_ori\"])&(annotated_df[\"proba_par\"]<=0.9)))\n",
    "\n",
    "conf_matrix = pd.crosstab(annotated_df['keep'], annotated_df['automated_keep'], rownames=['Human'], colnames=['Automated'])\n",
    "print(conf_matrix)"
   ]
  },
  {
   "cell_type": "code",
   "execution_count": null,
   "metadata": {},
   "outputs": [],
   "source": [
    "# Metrics\n",
    "y_true = annotated_df['keep']\n",
    "y_pred = annotated_df['automated_keep']\n",
    "\n",
    "precision = precision_score(y_true, y_pred)\n",
    "recall = recall_score(y_true, y_pred)\n",
    "f1 = f1_score(y_true, y_pred)\n",
    "accuracy = accuracy_score(y_true, y_pred)\n",
    "\n",
    "print(f\"\\nPrecision: {precision:.3f}\")\n",
    "print(f\"Recall:    {recall:.3f}\")\n",
    "print(f\"F1 Score:  {f1:.3f}\")\n",
    "print(f\"Accuracy:  {accuracy:.3f}\")"
   ]
  },
  {
   "cell_type": "code",
   "execution_count": null,
   "metadata": {},
   "outputs": [],
   "source": [
    "print(\"False positives examples:\")\n",
    "print(annotated_df.loc[(~annotated_df[\"keep\"])&annotated_df[\"automated_keep\"], [\"original\", \"raw_answer\", \"nb_modif\", \"wrong_modif\", \"realism\", \"meaning\"]])\n",
    "print(\"False negatives examples:\")\n",
    "print(annotated_df.loc[(annotated_df[\"keep\"])&(~annotated_df[\"automated_keep\"]), [\"original\", \"raw_answer\", \"nb_modif\", \"wrong_modif\", \"realism\", \"meaning\"]])"
   ]
  }
 ],
 "metadata": {
  "kernelspec": {
   "display_name": "Python 3 (multi)",
   "language": "python",
   "name": "multi"
  },
  "language_info": {
   "codemirror_mode": {
    "name": "ipython",
    "version": 3
   },
   "file_extension": ".py",
   "mimetype": "text/x-python",
   "name": "python",
   "nbconvert_exporter": "python",
   "pygments_lexer": "ipython3",
   "version": "3.10.11"
  }
 },
 "nbformat": 4,
 "nbformat_minor": 4
}
